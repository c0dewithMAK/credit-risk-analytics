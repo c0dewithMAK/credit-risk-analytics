{
 "cells": [
  {
   "cell_type": "markdown",
   "metadata": {},
   "source": [
    "<center>\n",
    "<h1> Credit Risk Analytics\n",
    "</center>\n",
    "\n",
    "###### Definition of Target and Outcome Window:\n",
    "One of the leading banks would like to predict bad customer while customer applying for loan. This model also called as PD Models (Probability of Default)\n",
    "\n",
    "\n",
    "###### Data Pre-Processing - \n",
    "    - Missing Values Treatment - Numerical (Mean/Median imputation) and Categorical (Separate Missing Category or Merging)\n",
    "    - Univariate Analysis - Outlier and Frequency Analysis\n",
    "###### Data Exploratory Analysis\n",
    "    - Bivariate Analysis - Numeric(TTest) and Categorical(Chisquare)\n",
    "    - Bivariate Analysis - Visualization\n",
    "    - Variable Transformation - P-Value based selection\n",
    "    - Variable Transformation - Bucketing / Binning for numerical variables and Dummy for Categorical Variables\n",
    "    - Variable Reduction - IV / Somers'D\n",
    "    - Variable Reduction - Multicollinearity\n",
    "###### Model Build and Model Diagnostics\n",
    "    - Train and Test split\n",
    "    - Significance of each Variable\n",
    "    - Gini and ROC / Concordance analysis - Rank Ordering\n",
    "    - Classification Table Analysis - Accuracy\n",
    "    - H-L Test for Accuracy by segments (Not done in this notebook)\n",
    "###### Model Validation\n",
    "    - OOS validation - p-value and sign testing for the model coefficients\n",
    "    - Diagnostics check to remain similar to Training Model build\n",
    "    - BootStrapping, if necessary\n",
    "###### Model Interpretation for its properties\n",
    "    - Inferencing for finding the most important contributors\n",
    "    - Prediction of risk and proactive prevention by targeting segments of the population"
   ]
  },
  {
   "cell_type": "code",
   "execution_count": 3,
   "metadata": {},
   "outputs": [
    {
     "data": {
      "text/plain": [
       "<Figure size 720x540 with 0 Axes>"
      ]
     },
     "metadata": {},
     "output_type": "display_data"
    }
   ],
   "source": [
    "import pandas as pd\n",
    "import numpy as np\n",
    "import seaborn as sns\n",
    "import matplotlib.pyplot as plt\n",
    "\n",
    "import statsmodels.formula.api as sm\n",
    "import scipy.stats as stats\n",
    "import pandas_profiling   #need to install using anaconda prompt (pip install pandas_profiling)\n",
    "\n",
    "%matplotlib inline\n",
    "plt.rcParams['figure.figsize'] = 10, 7.5\n",
    "plt.rcParams['axes.grid'] = True\n",
    "plt.gray()\n",
    "\n",
    "from matplotlib.backends.backend_pdf import PdfPages\n",
    "\n",
    "from sklearn.model_selection import train_test_split\n",
    "from sklearn import metrics\n",
    "from sklearn.linear_model import LogisticRegression\n",
    "from statsmodels.stats.outliers_influence import variance_inflation_factor\n",
    "from patsy import dmatrices"
   ]
  },
  {
   "cell_type": "code",
   "execution_count": 4,
   "metadata": {},
   "outputs": [],
   "source": [
    "# Load the data\n",
    "bankloans = pd.read_csv( 'bankloans.csv' )"
   ]
  },
  {
   "cell_type": "code",
   "execution_count": 5,
   "metadata": {},
   "outputs": [
    {
     "data": {
      "text/plain": [
       "Index(['age', 'ed', 'employ', 'address', 'income', 'debtinc', 'creddebt',\n",
       "       'othdebt', 'default'],\n",
       "      dtype='object')"
      ]
     },
     "execution_count": 5,
     "metadata": {},
     "output_type": "execute_result"
    }
   ],
   "source": [
    "bankloans.columns"
   ]
  },
  {
   "cell_type": "code",
   "execution_count": 6,
   "metadata": {},
   "outputs": [
    {
     "name": "stdout",
     "output_type": "stream",
     "text": [
      "<class 'pandas.core.frame.DataFrame'>\n",
      "RangeIndex: 850 entries, 0 to 849\n",
      "Data columns (total 9 columns):\n",
      " #   Column    Non-Null Count  Dtype  \n",
      "---  ------    --------------  -----  \n",
      " 0   age       850 non-null    int64  \n",
      " 1   ed        850 non-null    int64  \n",
      " 2   employ    850 non-null    int64  \n",
      " 3   address   850 non-null    int64  \n",
      " 4   income    850 non-null    int64  \n",
      " 5   debtinc   850 non-null    float64\n",
      " 6   creddebt  850 non-null    float64\n",
      " 7   othdebt   850 non-null    float64\n",
      " 8   default   700 non-null    float64\n",
      "dtypes: float64(4), int64(5)\n",
      "memory usage: 59.9 KB\n"
     ]
    }
   ],
   "source": [
    "bankloans.info()"
   ]
  },
  {
   "cell_type": "code",
   "execution_count": 7,
   "metadata": {},
   "outputs": [
    {
     "data": {
      "application/vnd.jupyter.widget-view+json": {
       "model_id": "6c01b3494fda4e788dbf060a4dac80fa",
       "version_major": 2,
       "version_minor": 0
      },
      "text/plain": [
       "Tab(children=(HTML(value='<div id=\"overview-content\" class=\"row variable spacing\">\\n    <div class=\"row\">\\n   …"
      ]
     },
     "metadata": {},
     "output_type": "display_data"
    },
    {
     "data": {
      "text/html": [
       "Report generated with <a href=\"https://github.com/pandas-profiling/pandas-profiling\">pandas-profiling</a>."
      ],
      "text/plain": [
       "<IPython.core.display.HTML object>"
      ]
     },
     "metadata": {},
     "output_type": "display_data"
    },
    {
     "data": {
      "text/plain": []
     },
     "execution_count": 7,
     "metadata": {},
     "output_type": "execute_result"
    }
   ],
   "source": [
    "pandas_profiling.ProfileReport(bankloans)"
   ]
  },
  {
   "cell_type": "code",
   "execution_count": 8,
   "metadata": {},
   "outputs": [
    {
     "name": "stdout",
     "output_type": "stream",
     "text": [
      "['age', 'ed', 'employ', 'address', 'income', 'debtinc', 'creddebt', 'othdebt', 'default']\n",
      "[]\n"
     ]
    }
   ],
   "source": [
    "numeric_var_names=[key for key in dict(bankloans.dtypes) if dict(bankloans.dtypes)[key] in ['float64', 'int64', 'float32', 'int32']]\n",
    "cat_var_names=[key for key in dict(bankloans.dtypes) if dict(bankloans.dtypes)[key] in ['object']]\n",
    "print(numeric_var_names)\n",
    "print(cat_var_names)"
   ]
  },
  {
   "cell_type": "code",
   "execution_count": 9,
   "metadata": {},
   "outputs": [
    {
     "data": {
      "text/html": [
       "<div>\n",
       "<style scoped>\n",
       "    .dataframe tbody tr th:only-of-type {\n",
       "        vertical-align: middle;\n",
       "    }\n",
       "\n",
       "    .dataframe tbody tr th {\n",
       "        vertical-align: top;\n",
       "    }\n",
       "\n",
       "    .dataframe thead th {\n",
       "        text-align: right;\n",
       "    }\n",
       "</style>\n",
       "<table border=\"1\" class=\"dataframe\">\n",
       "  <thead>\n",
       "    <tr style=\"text-align: right;\">\n",
       "      <th></th>\n",
       "      <th>age</th>\n",
       "      <th>ed</th>\n",
       "      <th>employ</th>\n",
       "      <th>address</th>\n",
       "      <th>income</th>\n",
       "      <th>debtinc</th>\n",
       "      <th>creddebt</th>\n",
       "      <th>othdebt</th>\n",
       "      <th>default</th>\n",
       "    </tr>\n",
       "  </thead>\n",
       "  <tbody>\n",
       "    <tr>\n",
       "      <th>0</th>\n",
       "      <td>41</td>\n",
       "      <td>3</td>\n",
       "      <td>17</td>\n",
       "      <td>12</td>\n",
       "      <td>176</td>\n",
       "      <td>9.3</td>\n",
       "      <td>11.359392</td>\n",
       "      <td>5.008608</td>\n",
       "      <td>1.0</td>\n",
       "    </tr>\n",
       "    <tr>\n",
       "      <th>1</th>\n",
       "      <td>27</td>\n",
       "      <td>1</td>\n",
       "      <td>10</td>\n",
       "      <td>6</td>\n",
       "      <td>31</td>\n",
       "      <td>17.3</td>\n",
       "      <td>1.362202</td>\n",
       "      <td>4.000798</td>\n",
       "      <td>0.0</td>\n",
       "    </tr>\n",
       "    <tr>\n",
       "      <th>2</th>\n",
       "      <td>40</td>\n",
       "      <td>1</td>\n",
       "      <td>15</td>\n",
       "      <td>14</td>\n",
       "      <td>55</td>\n",
       "      <td>5.5</td>\n",
       "      <td>0.856075</td>\n",
       "      <td>2.168925</td>\n",
       "      <td>0.0</td>\n",
       "    </tr>\n",
       "    <tr>\n",
       "      <th>3</th>\n",
       "      <td>41</td>\n",
       "      <td>1</td>\n",
       "      <td>15</td>\n",
       "      <td>14</td>\n",
       "      <td>120</td>\n",
       "      <td>2.9</td>\n",
       "      <td>2.658720</td>\n",
       "      <td>0.821280</td>\n",
       "      <td>0.0</td>\n",
       "    </tr>\n",
       "    <tr>\n",
       "      <th>4</th>\n",
       "      <td>24</td>\n",
       "      <td>2</td>\n",
       "      <td>2</td>\n",
       "      <td>0</td>\n",
       "      <td>28</td>\n",
       "      <td>17.3</td>\n",
       "      <td>1.787436</td>\n",
       "      <td>3.056564</td>\n",
       "      <td>1.0</td>\n",
       "    </tr>\n",
       "  </tbody>\n",
       "</table>\n",
       "</div>"
      ],
      "text/plain": [
       "   age  ed  employ  address  income  debtinc   creddebt   othdebt  default\n",
       "0   41   3      17       12     176      9.3  11.359392  5.008608      1.0\n",
       "1   27   1      10        6      31     17.3   1.362202  4.000798      0.0\n",
       "2   40   1      15       14      55      5.5   0.856075  2.168925      0.0\n",
       "3   41   1      15       14     120      2.9   2.658720  0.821280      0.0\n",
       "4   24   2       2        0      28     17.3   1.787436  3.056564      1.0"
      ]
     },
     "execution_count": 9,
     "metadata": {},
     "output_type": "execute_result"
    }
   ],
   "source": [
    "bankloans_num=bankloans[numeric_var_names]\n",
    "bankloans_num.head(5)"
   ]
  },
  {
   "cell_type": "code",
   "execution_count": 10,
   "metadata": {},
   "outputs": [
    {
     "data": {
      "text/html": [
       "<div>\n",
       "<style scoped>\n",
       "    .dataframe tbody tr th:only-of-type {\n",
       "        vertical-align: middle;\n",
       "    }\n",
       "\n",
       "    .dataframe tbody tr th {\n",
       "        vertical-align: top;\n",
       "    }\n",
       "\n",
       "    .dataframe thead th {\n",
       "        text-align: right;\n",
       "    }\n",
       "</style>\n",
       "<table border=\"1\" class=\"dataframe\">\n",
       "  <thead>\n",
       "    <tr style=\"text-align: right;\">\n",
       "      <th></th>\n",
       "    </tr>\n",
       "  </thead>\n",
       "  <tbody>\n",
       "    <tr>\n",
       "      <th>0</th>\n",
       "    </tr>\n",
       "    <tr>\n",
       "      <th>1</th>\n",
       "    </tr>\n",
       "    <tr>\n",
       "      <th>2</th>\n",
       "    </tr>\n",
       "    <tr>\n",
       "      <th>3</th>\n",
       "    </tr>\n",
       "    <tr>\n",
       "      <th>4</th>\n",
       "    </tr>\n",
       "  </tbody>\n",
       "</table>\n",
       "</div>"
      ],
      "text/plain": [
       "Empty DataFrame\n",
       "Columns: []\n",
       "Index: [0, 1, 2, 3, 4]"
      ]
     },
     "execution_count": 10,
     "metadata": {},
     "output_type": "execute_result"
    }
   ],
   "source": [
    "bankloans_cat = bankloans[cat_var_names]\n",
    "bankloans_cat.head(5)"
   ]
  },
  {
   "cell_type": "code",
   "execution_count": 11,
   "metadata": {},
   "outputs": [],
   "source": [
    "# Creating Data audit Report\n",
    "# Use a general function that returns multiple values\n",
    "def var_summary(x):\n",
    "    return pd.Series([x.count(), x.isnull().sum(), x.sum(), x.mean(), x.median(),  x.std(), x.var(), x.min(), x.dropna().quantile(0.01), x.dropna().quantile(0.05),x.dropna().quantile(0.10),x.dropna().quantile(0.25),x.dropna().quantile(0.50),x.dropna().quantile(0.75), x.dropna().quantile(0.90),x.dropna().quantile(0.95), x.dropna().quantile(0.99),x.max()], \n",
    "                  index=['N', 'NMISS', 'SUM', 'MEAN','MEDIAN', 'STD', 'VAR', 'MIN', 'P1' , 'P5' ,'P10' ,'P25' ,'P50' ,'P75' ,'P90' ,'P95' ,'P99' ,'MAX'])\n",
    "\n",
    "num_summary=bankloans_num.apply(lambda x: var_summary(x)).T"
   ]
  },
  {
   "cell_type": "code",
   "execution_count": 12,
   "metadata": {},
   "outputs": [
    {
     "data": {
      "text/html": [
       "<div>\n",
       "<style scoped>\n",
       "    .dataframe tbody tr th:only-of-type {\n",
       "        vertical-align: middle;\n",
       "    }\n",
       "\n",
       "    .dataframe tbody tr th {\n",
       "        vertical-align: top;\n",
       "    }\n",
       "\n",
       "    .dataframe thead th {\n",
       "        text-align: right;\n",
       "    }\n",
       "</style>\n",
       "<table border=\"1\" class=\"dataframe\">\n",
       "  <thead>\n",
       "    <tr style=\"text-align: right;\">\n",
       "      <th></th>\n",
       "      <th>N</th>\n",
       "      <th>NMISS</th>\n",
       "      <th>SUM</th>\n",
       "      <th>MEAN</th>\n",
       "      <th>MEDIAN</th>\n",
       "      <th>STD</th>\n",
       "      <th>VAR</th>\n",
       "      <th>MIN</th>\n",
       "      <th>P1</th>\n",
       "      <th>P5</th>\n",
       "      <th>P10</th>\n",
       "      <th>P25</th>\n",
       "      <th>P50</th>\n",
       "      <th>P75</th>\n",
       "      <th>P90</th>\n",
       "      <th>P95</th>\n",
       "      <th>P99</th>\n",
       "      <th>MAX</th>\n",
       "    </tr>\n",
       "  </thead>\n",
       "  <tbody>\n",
       "    <tr>\n",
       "      <th>age</th>\n",
       "      <td>850.0</td>\n",
       "      <td>0.0</td>\n",
       "      <td>29775.000000</td>\n",
       "      <td>35.029412</td>\n",
       "      <td>34.000000</td>\n",
       "      <td>8.041432</td>\n",
       "      <td>64.664623</td>\n",
       "      <td>20.000000</td>\n",
       "      <td>21.000000</td>\n",
       "      <td>23.000000</td>\n",
       "      <td>25.000000</td>\n",
       "      <td>29.000000</td>\n",
       "      <td>34.000000</td>\n",
       "      <td>41.000000</td>\n",
       "      <td>47.000000</td>\n",
       "      <td>49.000000</td>\n",
       "      <td>53.000000</td>\n",
       "      <td>56.00000</td>\n",
       "    </tr>\n",
       "    <tr>\n",
       "      <th>ed</th>\n",
       "      <td>850.0</td>\n",
       "      <td>0.0</td>\n",
       "      <td>1454.000000</td>\n",
       "      <td>1.710588</td>\n",
       "      <td>1.000000</td>\n",
       "      <td>0.927784</td>\n",
       "      <td>0.860783</td>\n",
       "      <td>1.000000</td>\n",
       "      <td>1.000000</td>\n",
       "      <td>1.000000</td>\n",
       "      <td>1.000000</td>\n",
       "      <td>1.000000</td>\n",
       "      <td>1.000000</td>\n",
       "      <td>2.000000</td>\n",
       "      <td>3.000000</td>\n",
       "      <td>4.000000</td>\n",
       "      <td>4.000000</td>\n",
       "      <td>5.00000</td>\n",
       "    </tr>\n",
       "    <tr>\n",
       "      <th>employ</th>\n",
       "      <td>850.0</td>\n",
       "      <td>0.0</td>\n",
       "      <td>7281.000000</td>\n",
       "      <td>8.565882</td>\n",
       "      <td>7.000000</td>\n",
       "      <td>6.777884</td>\n",
       "      <td>45.939706</td>\n",
       "      <td>0.000000</td>\n",
       "      <td>0.000000</td>\n",
       "      <td>0.000000</td>\n",
       "      <td>1.000000</td>\n",
       "      <td>3.000000</td>\n",
       "      <td>7.000000</td>\n",
       "      <td>13.000000</td>\n",
       "      <td>18.000000</td>\n",
       "      <td>21.550000</td>\n",
       "      <td>29.000000</td>\n",
       "      <td>33.00000</td>\n",
       "    </tr>\n",
       "    <tr>\n",
       "      <th>address</th>\n",
       "      <td>850.0</td>\n",
       "      <td>0.0</td>\n",
       "      <td>7116.000000</td>\n",
       "      <td>8.371765</td>\n",
       "      <td>7.000000</td>\n",
       "      <td>6.895016</td>\n",
       "      <td>47.541251</td>\n",
       "      <td>0.000000</td>\n",
       "      <td>0.000000</td>\n",
       "      <td>0.000000</td>\n",
       "      <td>1.000000</td>\n",
       "      <td>3.000000</td>\n",
       "      <td>7.000000</td>\n",
       "      <td>12.000000</td>\n",
       "      <td>19.000000</td>\n",
       "      <td>22.550000</td>\n",
       "      <td>26.510000</td>\n",
       "      <td>34.00000</td>\n",
       "    </tr>\n",
       "    <tr>\n",
       "      <th>income</th>\n",
       "      <td>850.0</td>\n",
       "      <td>0.0</td>\n",
       "      <td>39674.000000</td>\n",
       "      <td>46.675294</td>\n",
       "      <td>35.000000</td>\n",
       "      <td>38.543054</td>\n",
       "      <td>1485.566998</td>\n",
       "      <td>13.000000</td>\n",
       "      <td>14.490000</td>\n",
       "      <td>17.000000</td>\n",
       "      <td>19.000000</td>\n",
       "      <td>24.000000</td>\n",
       "      <td>35.000000</td>\n",
       "      <td>55.750000</td>\n",
       "      <td>84.000000</td>\n",
       "      <td>115.550000</td>\n",
       "      <td>220.510000</td>\n",
       "      <td>446.00000</td>\n",
       "    </tr>\n",
       "    <tr>\n",
       "      <th>debtinc</th>\n",
       "      <td>850.0</td>\n",
       "      <td>0.0</td>\n",
       "      <td>8645.900000</td>\n",
       "      <td>10.171647</td>\n",
       "      <td>8.700000</td>\n",
       "      <td>6.719441</td>\n",
       "      <td>45.150891</td>\n",
       "      <td>0.100000</td>\n",
       "      <td>0.900000</td>\n",
       "      <td>1.900000</td>\n",
       "      <td>2.900000</td>\n",
       "      <td>5.100000</td>\n",
       "      <td>8.700000</td>\n",
       "      <td>13.800000</td>\n",
       "      <td>19.200000</td>\n",
       "      <td>23.510000</td>\n",
       "      <td>31.565000</td>\n",
       "      <td>41.30000</td>\n",
       "    </tr>\n",
       "    <tr>\n",
       "      <th>creddebt</th>\n",
       "      <td>850.0</td>\n",
       "      <td>0.0</td>\n",
       "      <td>1340.284021</td>\n",
       "      <td>1.576805</td>\n",
       "      <td>0.885091</td>\n",
       "      <td>2.125840</td>\n",
       "      <td>4.519196</td>\n",
       "      <td>0.011696</td>\n",
       "      <td>0.030349</td>\n",
       "      <td>0.108927</td>\n",
       "      <td>0.178306</td>\n",
       "      <td>0.382176</td>\n",
       "      <td>0.885091</td>\n",
       "      <td>1.898440</td>\n",
       "      <td>3.703304</td>\n",
       "      <td>5.348674</td>\n",
       "      <td>10.285997</td>\n",
       "      <td>20.56131</td>\n",
       "    </tr>\n",
       "    <tr>\n",
       "      <th>othdebt</th>\n",
       "      <td>850.0</td>\n",
       "      <td>0.0</td>\n",
       "      <td>2616.970979</td>\n",
       "      <td>3.078789</td>\n",
       "      <td>2.003243</td>\n",
       "      <td>3.398803</td>\n",
       "      <td>11.551864</td>\n",
       "      <td>0.045584</td>\n",
       "      <td>0.162394</td>\n",
       "      <td>0.359900</td>\n",
       "      <td>0.552050</td>\n",
       "      <td>1.045942</td>\n",
       "      <td>2.003243</td>\n",
       "      <td>3.903001</td>\n",
       "      <td>7.111941</td>\n",
       "      <td>9.481105</td>\n",
       "      <td>16.931503</td>\n",
       "      <td>35.19750</td>\n",
       "    </tr>\n",
       "    <tr>\n",
       "      <th>default</th>\n",
       "      <td>700.0</td>\n",
       "      <td>150.0</td>\n",
       "      <td>183.000000</td>\n",
       "      <td>0.261429</td>\n",
       "      <td>0.000000</td>\n",
       "      <td>0.439727</td>\n",
       "      <td>0.193360</td>\n",
       "      <td>0.000000</td>\n",
       "      <td>0.000000</td>\n",
       "      <td>0.000000</td>\n",
       "      <td>0.000000</td>\n",
       "      <td>0.000000</td>\n",
       "      <td>0.000000</td>\n",
       "      <td>1.000000</td>\n",
       "      <td>1.000000</td>\n",
       "      <td>1.000000</td>\n",
       "      <td>1.000000</td>\n",
       "      <td>1.00000</td>\n",
       "    </tr>\n",
       "  </tbody>\n",
       "</table>\n",
       "</div>"
      ],
      "text/plain": [
       "              N  NMISS           SUM       MEAN     MEDIAN        STD  \\\n",
       "age       850.0    0.0  29775.000000  35.029412  34.000000   8.041432   \n",
       "ed        850.0    0.0   1454.000000   1.710588   1.000000   0.927784   \n",
       "employ    850.0    0.0   7281.000000   8.565882   7.000000   6.777884   \n",
       "address   850.0    0.0   7116.000000   8.371765   7.000000   6.895016   \n",
       "income    850.0    0.0  39674.000000  46.675294  35.000000  38.543054   \n",
       "debtinc   850.0    0.0   8645.900000  10.171647   8.700000   6.719441   \n",
       "creddebt  850.0    0.0   1340.284021   1.576805   0.885091   2.125840   \n",
       "othdebt   850.0    0.0   2616.970979   3.078789   2.003243   3.398803   \n",
       "default   700.0  150.0    183.000000   0.261429   0.000000   0.439727   \n",
       "\n",
       "                  VAR        MIN         P1         P5        P10        P25  \\\n",
       "age         64.664623  20.000000  21.000000  23.000000  25.000000  29.000000   \n",
       "ed           0.860783   1.000000   1.000000   1.000000   1.000000   1.000000   \n",
       "employ      45.939706   0.000000   0.000000   0.000000   1.000000   3.000000   \n",
       "address     47.541251   0.000000   0.000000   0.000000   1.000000   3.000000   \n",
       "income    1485.566998  13.000000  14.490000  17.000000  19.000000  24.000000   \n",
       "debtinc     45.150891   0.100000   0.900000   1.900000   2.900000   5.100000   \n",
       "creddebt     4.519196   0.011696   0.030349   0.108927   0.178306   0.382176   \n",
       "othdebt     11.551864   0.045584   0.162394   0.359900   0.552050   1.045942   \n",
       "default      0.193360   0.000000   0.000000   0.000000   0.000000   0.000000   \n",
       "\n",
       "                P50        P75        P90         P95         P99        MAX  \n",
       "age       34.000000  41.000000  47.000000   49.000000   53.000000   56.00000  \n",
       "ed         1.000000   2.000000   3.000000    4.000000    4.000000    5.00000  \n",
       "employ     7.000000  13.000000  18.000000   21.550000   29.000000   33.00000  \n",
       "address    7.000000  12.000000  19.000000   22.550000   26.510000   34.00000  \n",
       "income    35.000000  55.750000  84.000000  115.550000  220.510000  446.00000  \n",
       "debtinc    8.700000  13.800000  19.200000   23.510000   31.565000   41.30000  \n",
       "creddebt   0.885091   1.898440   3.703304    5.348674   10.285997   20.56131  \n",
       "othdebt    2.003243   3.903001   7.111941    9.481105   16.931503   35.19750  \n",
       "default    0.000000   1.000000   1.000000    1.000000    1.000000    1.00000  "
      ]
     },
     "execution_count": 12,
     "metadata": {},
     "output_type": "execute_result"
    }
   ],
   "source": [
    "num_summary"
   ]
  },
  {
   "cell_type": "code",
   "execution_count": 13,
   "metadata": {},
   "outputs": [],
   "source": [
    "bankloans_existing = bankloans_num[bankloans_num.default.isnull()==0]\n",
    "bankloans_new = bankloans_num[bankloans_num.default.isnull()==1]"
   ]
  },
  {
   "cell_type": "code",
   "execution_count": 16,
   "metadata": {},
   "outputs": [],
   "source": [
    "#Handling Outliers - Method2\n",
    "def outlier_capping(x):\n",
    "    x = x.clip(upper=x.quantile(0.99))\n",
    "    x = x.clip(lower=x.quantile(0.01))\n",
    "    return x\n",
    "\n",
    "bankloans_existing=bankloans_existing.apply(lambda x: outlier_capping(x))"
   ]
  },
  {
   "cell_type": "code",
   "execution_count": 17,
   "metadata": {},
   "outputs": [],
   "source": [
    "#Handling missings - Method2\n",
    "def Missing_imputation(x):\n",
    "    x = x.fillna(x.mean())\n",
    "    return x\n",
    "\n",
    "bankloans_existing=bankloans_existing.apply(lambda x: Missing_imputation(x))"
   ]
  },
  {
   "cell_type": "code",
   "execution_count": 18,
   "metadata": {},
   "outputs": [
    {
     "data": {
      "text/html": [
       "<div>\n",
       "<style scoped>\n",
       "    .dataframe tbody tr th:only-of-type {\n",
       "        vertical-align: middle;\n",
       "    }\n",
       "\n",
       "    .dataframe tbody tr th {\n",
       "        vertical-align: top;\n",
       "    }\n",
       "\n",
       "    .dataframe thead th {\n",
       "        text-align: right;\n",
       "    }\n",
       "</style>\n",
       "<table border=\"1\" class=\"dataframe\">\n",
       "  <thead>\n",
       "    <tr style=\"text-align: right;\">\n",
       "      <th></th>\n",
       "      <th>age</th>\n",
       "      <th>ed</th>\n",
       "      <th>employ</th>\n",
       "      <th>address</th>\n",
       "      <th>income</th>\n",
       "      <th>debtinc</th>\n",
       "      <th>creddebt</th>\n",
       "      <th>othdebt</th>\n",
       "      <th>default</th>\n",
       "    </tr>\n",
       "  </thead>\n",
       "  <tbody>\n",
       "    <tr>\n",
       "      <th>age</th>\n",
       "      <td>1.000000</td>\n",
       "      <td>0.016582</td>\n",
       "      <td>0.537418</td>\n",
       "      <td>0.596974</td>\n",
       "      <td>0.521540</td>\n",
       "      <td>0.016918</td>\n",
       "      <td>0.308324</td>\n",
       "      <td>0.348906</td>\n",
       "      <td>-0.138663</td>\n",
       "    </tr>\n",
       "    <tr>\n",
       "      <th>ed</th>\n",
       "      <td>0.016582</td>\n",
       "      <td>1.000000</td>\n",
       "      <td>-0.158071</td>\n",
       "      <td>0.055553</td>\n",
       "      <td>0.225403</td>\n",
       "      <td>0.009992</td>\n",
       "      <td>0.103026</td>\n",
       "      <td>0.156522</td>\n",
       "      <td>0.118521</td>\n",
       "    </tr>\n",
       "    <tr>\n",
       "      <th>employ</th>\n",
       "      <td>0.537418</td>\n",
       "      <td>-0.158071</td>\n",
       "      <td>1.000000</td>\n",
       "      <td>0.324867</td>\n",
       "      <td>0.665488</td>\n",
       "      <td>-0.035339</td>\n",
       "      <td>0.405940</td>\n",
       "      <td>0.419323</td>\n",
       "      <td>-0.287210</td>\n",
       "    </tr>\n",
       "    <tr>\n",
       "      <th>address</th>\n",
       "      <td>0.596974</td>\n",
       "      <td>0.055553</td>\n",
       "      <td>0.324867</td>\n",
       "      <td>1.000000</td>\n",
       "      <td>0.345137</td>\n",
       "      <td>0.014971</td>\n",
       "      <td>0.215407</td>\n",
       "      <td>0.234901</td>\n",
       "      <td>-0.165392</td>\n",
       "    </tr>\n",
       "    <tr>\n",
       "      <th>income</th>\n",
       "      <td>0.521540</td>\n",
       "      <td>0.225403</td>\n",
       "      <td>0.665488</td>\n",
       "      <td>0.345137</td>\n",
       "      <td>1.000000</td>\n",
       "      <td>-0.022538</td>\n",
       "      <td>0.553006</td>\n",
       "      <td>0.626773</td>\n",
       "      <td>-0.099631</td>\n",
       "    </tr>\n",
       "    <tr>\n",
       "      <th>debtinc</th>\n",
       "      <td>0.016918</td>\n",
       "      <td>0.009992</td>\n",
       "      <td>-0.035339</td>\n",
       "      <td>0.014971</td>\n",
       "      <td>-0.022538</td>\n",
       "      <td>1.000000</td>\n",
       "      <td>0.534690</td>\n",
       "      <td>0.603630</td>\n",
       "      <td>0.388556</td>\n",
       "    </tr>\n",
       "    <tr>\n",
       "      <th>creddebt</th>\n",
       "      <td>0.308324</td>\n",
       "      <td>0.103026</td>\n",
       "      <td>0.405940</td>\n",
       "      <td>0.215407</td>\n",
       "      <td>0.553006</td>\n",
       "      <td>0.534690</td>\n",
       "      <td>1.000000</td>\n",
       "      <td>0.639947</td>\n",
       "      <td>0.238133</td>\n",
       "    </tr>\n",
       "    <tr>\n",
       "      <th>othdebt</th>\n",
       "      <td>0.348906</td>\n",
       "      <td>0.156522</td>\n",
       "      <td>0.419323</td>\n",
       "      <td>0.234901</td>\n",
       "      <td>0.626773</td>\n",
       "      <td>0.603630</td>\n",
       "      <td>0.639947</td>\n",
       "      <td>1.000000</td>\n",
       "      <td>0.138961</td>\n",
       "    </tr>\n",
       "    <tr>\n",
       "      <th>default</th>\n",
       "      <td>-0.138663</td>\n",
       "      <td>0.118521</td>\n",
       "      <td>-0.287210</td>\n",
       "      <td>-0.165392</td>\n",
       "      <td>-0.099631</td>\n",
       "      <td>0.388556</td>\n",
       "      <td>0.238133</td>\n",
       "      <td>0.138961</td>\n",
       "      <td>1.000000</td>\n",
       "    </tr>\n",
       "  </tbody>\n",
       "</table>\n",
       "</div>"
      ],
      "text/plain": [
       "               age        ed    employ   address    income   debtinc  \\\n",
       "age       1.000000  0.016582  0.537418  0.596974  0.521540  0.016918   \n",
       "ed        0.016582  1.000000 -0.158071  0.055553  0.225403  0.009992   \n",
       "employ    0.537418 -0.158071  1.000000  0.324867  0.665488 -0.035339   \n",
       "address   0.596974  0.055553  0.324867  1.000000  0.345137  0.014971   \n",
       "income    0.521540  0.225403  0.665488  0.345137  1.000000 -0.022538   \n",
       "debtinc   0.016918  0.009992 -0.035339  0.014971 -0.022538  1.000000   \n",
       "creddebt  0.308324  0.103026  0.405940  0.215407  0.553006  0.534690   \n",
       "othdebt   0.348906  0.156522  0.419323  0.234901  0.626773  0.603630   \n",
       "default  -0.138663  0.118521 -0.287210 -0.165392 -0.099631  0.388556   \n",
       "\n",
       "          creddebt   othdebt   default  \n",
       "age       0.308324  0.348906 -0.138663  \n",
       "ed        0.103026  0.156522  0.118521  \n",
       "employ    0.405940  0.419323 -0.287210  \n",
       "address   0.215407  0.234901 -0.165392  \n",
       "income    0.553006  0.626773 -0.099631  \n",
       "debtinc   0.534690  0.603630  0.388556  \n",
       "creddebt  1.000000  0.639947  0.238133  \n",
       "othdebt   0.639947  1.000000  0.138961  \n",
       "default   0.238133  0.138961  1.000000  "
      ]
     },
     "execution_count": 18,
     "metadata": {},
     "output_type": "execute_result"
    }
   ],
   "source": [
    "bankloans_existing.corr()"
   ]
  },
  {
   "cell_type": "code",
   "execution_count": 19,
   "metadata": {},
   "outputs": [
    {
     "data": {
      "text/plain": [
       "<matplotlib.axes._subplots.AxesSubplot at 0x102368ee08>"
      ]
     },
     "execution_count": 19,
     "metadata": {},
     "output_type": "execute_result"
    },
    {
     "data": {
      "image/png": "[encoded data removed]",
      "text/plain": [
       "<Figure size 720x540 with 2 Axes>"
      ]
     },
     "metadata": {
      "needs_background": "light"
     },
     "output_type": "display_data"
    }
   ],
   "source": [
    "# visualize correlation matrix in Seaborn using a heatmap\n",
    "sns.heatmap(bankloans_existing.corr())"
   ]
  },
  {
   "cell_type": "markdown",
   "metadata": {},
   "source": [
    "###### 2.4 Data Exploratory Analysis\n",
    "    - Variable Transformation: (i) Bucketing"
   ]
  },
  {
   "cell_type": "code",
   "execution_count": 20,
   "metadata": {},
   "outputs": [
    {
     "data": {
      "image/png": "[encoded data removed]",
      "text/plain": [
       "<Figure size 720x288 with 1 Axes>"
      ]
     },
     "metadata": {
      "needs_background": "light"
     },
     "output_type": "display_data"
    },
    {
     "data": {
      "image/png": "[encoded data removed]",
      "text/plain": [
       "<Figure size 720x288 with 1 Axes>"
      ]
     },
     "metadata": {
      "needs_background": "light"
     },
     "output_type": "display_data"
    },
    {
     "data": {
      "image/png": "[encoded data removed]",
      "text/plain": [
       "<Figure size 720x288 with 1 Axes>"
      ]
     },
     "metadata": {
      "needs_background": "light"
     },
     "output_type": "display_data"
    },
    {
     "data": {
      "image/png": "[encoded data removed]",
      "text/plain": [
       "<Figure size 720x288 with 1 Axes>"
      ]
     },
     "metadata": {
      "needs_background": "light"
     },
     "output_type": "display_data"
    },
    {
     "data": {
      "image/png": "[encoded data removed]",
      "text/plain": [
       "<Figure size 720x288 with 1 Axes>"
      ]
     },
     "metadata": {
      "needs_background": "light"
     },
     "output_type": "display_data"
    },
    {
     "data": {
      "image/png": "[encoded data removed]",
      "text/plain": [
       "<Figure size 720x288 with 1 Axes>"
      ]
     },
     "metadata": {
      "needs_background": "light"
     },
     "output_type": "display_data"
    },
    {
     "data": {
      "image/png": "[encoded data removed]",
      "text/plain": [
       "<Figure size 720x288 with 1 Axes>"
      ]
     },
     "metadata": {
      "needs_background": "light"
     },
     "output_type": "display_data"
    },
    {
     "data": {
      "image/png": "[encoded data removed]",
      "text/plain": [
       "<Figure size 720x288 with 1 Axes>"
      ]
     },
     "metadata": {
      "needs_background": "light"
     },
     "output_type": "display_data"
    }
   ],
   "source": [
    "bp = PdfPages('Transformation Plots.pdf')\n",
    "\n",
    "for num_variable in bankloans_existing.columns.difference(['default']):\n",
    "    binned = pd.cut(bankloans_existing[num_variable], bins=10, labels=list(range(1,11)))\n",
    "    binned = binned.dropna()\n",
    "    ser = bankloans_existing.groupby(binned)['default'].sum() / (bankloans_existing.groupby(binned)['default'].count()-bankloans_existing.groupby(binned)['default'].sum())\n",
    "    ser = np.log(ser)\n",
    "    fig,axes = plt.subplots(figsize=(10,4))\n",
    "    sns.barplot(x=ser.index,y=ser)\n",
    "    plt.ylabel('Log Odds Ratio')\n",
    "    plt.title(str('Logit Plot for identifying if the bucketing is required or not for variable ') + str(num_variable))\n",
    "    bp.savefig(fig)\n",
    "\n",
    "bp.close()"
   ]
  },
  {
   "cell_type": "markdown",
   "metadata": {},
   "source": [
    "###### 2.5 Data Exploratory Analysis\n",
    "    - Variable Reduction using Somer's D values"
   ]
  },
  {
   "cell_type": "code",
   "execution_count": 21,
   "metadata": {},
   "outputs": [
    {
     "data": {
      "text/plain": [
       "Index(['age', 'ed', 'employ', 'address', 'income', 'debtinc', 'creddebt',\n",
       "       'othdebt', 'default'],\n",
       "      dtype='object')"
      ]
     },
     "execution_count": 21,
     "metadata": {},
     "output_type": "execute_result"
    }
   ],
   "source": [
    "bankloans_existing.columns"
   ]
  },
  {
   "cell_type": "code",
   "execution_count": 22,
   "metadata": {},
   "outputs": [
    {
     "name": "stdout",
     "output_type": "stream",
     "text": [
      "Optimization terminated successfully.\n",
      "         Current function value: 0.564672\n",
      "         Iterations 5\n"
     ]
    }
   ],
   "source": [
    "logreg_model = sm.logit('default~age', data= bankloans_existing).fit()"
   ]
  },
  {
   "cell_type": "code",
   "execution_count": 23,
   "metadata": {},
   "outputs": [],
   "source": [
    "p = logreg_model.predict(bankloans_existing)"
   ]
  },
  {
   "cell_type": "code",
   "execution_count": 24,
   "metadata": {},
   "outputs": [
    {
     "data": {
      "text/plain": [
       "0.6031645368931732"
      ]
     },
     "execution_count": 24,
     "metadata": {},
     "output_type": "execute_result"
    }
   ],
   "source": [
    "metrics.roc_auc_score(bankloans_existing['default'], p)"
   ]
  },
  {
   "cell_type": "code",
   "execution_count": 25,
   "metadata": {},
   "outputs": [
    {
     "data": {
      "text/plain": [
       "0.20632907378634635"
      ]
     },
     "execution_count": 25,
     "metadata": {},
     "output_type": "execute_result"
    }
   ],
   "source": [
    "2*metrics.roc_auc_score(bankloans_existing['default'], p)-1"
   ]
  },
  {
   "cell_type": "code",
   "execution_count": 26,
   "metadata": {},
   "outputs": [
    {
     "name": "stdout",
     "output_type": "stream",
     "text": [
      "Optimization terminated successfully.\n",
      "         Current function value: 0.559856\n",
      "         Iterations 5\n",
      "Optimization terminated successfully.\n",
      "         Current function value: 0.564672\n",
      "         Iterations 5\n",
      "Optimization terminated successfully.\n",
      "         Current function value: 0.548965\n",
      "         Iterations 5\n",
      "Optimization terminated successfully.\n",
      "         Current function value: 0.501389\n",
      "         Iterations 6\n",
      "Optimization terminated successfully.\n",
      "         Current function value: 0.567774\n",
      "         Iterations 5\n",
      "Optimization terminated successfully.\n",
      "         Current function value: 0.527163\n",
      "         Iterations 6\n",
      "Optimization terminated successfully.\n",
      "         Current function value: 0.569046\n",
      "         Iterations 6\n",
      "Optimization terminated successfully.\n",
      "         Current function value: 0.565619\n",
      "         Iterations 5\n"
     ]
    },
    {
     "data": {
      "text/html": [
       "<div>\n",
       "<style scoped>\n",
       "    .dataframe tbody tr th:only-of-type {\n",
       "        vertical-align: middle;\n",
       "    }\n",
       "\n",
       "    .dataframe tbody tr th {\n",
       "        vertical-align: top;\n",
       "    }\n",
       "\n",
       "    .dataframe thead th {\n",
       "        text-align: right;\n",
       "    }\n",
       "</style>\n",
       "<table border=\"1\" class=\"dataframe\">\n",
       "  <thead>\n",
       "    <tr style=\"text-align: right;\">\n",
       "      <th></th>\n",
       "      <th>Variable Name</th>\n",
       "      <th>SomersD</th>\n",
       "    </tr>\n",
       "  </thead>\n",
       "  <tbody>\n",
       "    <tr>\n",
       "      <th>0</th>\n",
       "      <td>address</td>\n",
       "      <td>0.222384</td>\n",
       "    </tr>\n",
       "    <tr>\n",
       "      <th>0</th>\n",
       "      <td>age</td>\n",
       "      <td>0.206329</td>\n",
       "    </tr>\n",
       "    <tr>\n",
       "      <th>0</th>\n",
       "      <td>creddebt</td>\n",
       "      <td>0.272378</td>\n",
       "    </tr>\n",
       "    <tr>\n",
       "      <th>0</th>\n",
       "      <td>debtinc</td>\n",
       "      <td>0.470506</td>\n",
       "    </tr>\n",
       "    <tr>\n",
       "      <th>0</th>\n",
       "      <td>ed</td>\n",
       "      <td>0.148302</td>\n",
       "    </tr>\n",
       "    <tr>\n",
       "      <th>0</th>\n",
       "      <td>employ</td>\n",
       "      <td>0.409138</td>\n",
       "    </tr>\n",
       "    <tr>\n",
       "      <th>0</th>\n",
       "      <td>income</td>\n",
       "      <td>0.200273</td>\n",
       "    </tr>\n",
       "    <tr>\n",
       "      <th>0</th>\n",
       "      <td>othdebt</td>\n",
       "      <td>0.173806</td>\n",
       "    </tr>\n",
       "  </tbody>\n",
       "</table>\n",
       "</div>"
      ],
      "text/plain": [
       "  Variable Name   SomersD\n",
       "0       address  0.222384\n",
       "0           age  0.206329\n",
       "0      creddebt  0.272378\n",
       "0       debtinc  0.470506\n",
       "0            ed  0.148302\n",
       "0        employ  0.409138\n",
       "0        income  0.200273\n",
       "0       othdebt  0.173806"
      ]
     },
     "execution_count": 26,
     "metadata": {},
     "output_type": "execute_result"
    }
   ],
   "source": [
    "\n",
    "somersd_df = pd.DataFrame()\n",
    "for num_variable in bankloans_existing.columns.difference(['default']):\n",
    "    logreg = sm.logit(formula = str('default ~ ')+str(num_variable), data=bankloans_existing)\n",
    "    result = logreg.fit()\n",
    "    summ = result.summary2()\n",
    "    y_score = pd.DataFrame(result.predict())\n",
    "    y_score.columns = ['Score']\n",
    "    somers_d = 2*metrics.roc_auc_score(bankloans_existing['default'],y_score) - 1\n",
    "    temp = pd.DataFrame([num_variable,somers_d]).T\n",
    "    temp.columns = ['Variable Name', 'SomersD']\n",
    "    somersd_df = pd.concat([somersd_df, temp], axis=0)\n",
    "\n",
    "somersd_df"
   ]
  },
  {
   "cell_type": "code",
   "execution_count": 32,
   "metadata": {},
   "outputs": [
    {
     "data": {
      "text/html": [
       "<div>\n",
       "<style scoped>\n",
       "    .dataframe tbody tr th:only-of-type {\n",
       "        vertical-align: middle;\n",
       "    }\n",
       "\n",
       "    .dataframe tbody tr th {\n",
       "        vertical-align: top;\n",
       "    }\n",
       "\n",
       "    .dataframe thead th {\n",
       "        text-align: right;\n",
       "    }\n",
       "</style>\n",
       "<table border=\"1\" class=\"dataframe\">\n",
       "  <thead>\n",
       "    <tr style=\"text-align: right;\">\n",
       "      <th></th>\n",
       "      <th>address</th>\n",
       "      <th>age</th>\n",
       "      <th>creddebt</th>\n",
       "      <th>debtinc</th>\n",
       "      <th>ed</th>\n",
       "      <th>employ</th>\n",
       "      <th>income</th>\n",
       "      <th>othdebt</th>\n",
       "      <th>default</th>\n",
       "    </tr>\n",
       "  </thead>\n",
       "  <tbody>\n",
       "    <tr>\n",
       "      <th>0</th>\n",
       "      <td>12.0</td>\n",
       "      <td>41.0</td>\n",
       "      <td>9.876748</td>\n",
       "      <td>9.3</td>\n",
       "      <td>3</td>\n",
       "      <td>17.0</td>\n",
       "      <td>176.0</td>\n",
       "      <td>5.008608</td>\n",
       "      <td>1.0</td>\n",
       "    </tr>\n",
       "    <tr>\n",
       "      <th>1</th>\n",
       "      <td>6.0</td>\n",
       "      <td>27.0</td>\n",
       "      <td>1.362202</td>\n",
       "      <td>17.3</td>\n",
       "      <td>1</td>\n",
       "      <td>10.0</td>\n",
       "      <td>31.0</td>\n",
       "      <td>4.000798</td>\n",
       "      <td>0.0</td>\n",
       "    </tr>\n",
       "    <tr>\n",
       "      <th>2</th>\n",
       "      <td>14.0</td>\n",
       "      <td>40.0</td>\n",
       "      <td>0.856075</td>\n",
       "      <td>5.5</td>\n",
       "      <td>1</td>\n",
       "      <td>15.0</td>\n",
       "      <td>55.0</td>\n",
       "      <td>2.168925</td>\n",
       "      <td>0.0</td>\n",
       "    </tr>\n",
       "    <tr>\n",
       "      <th>3</th>\n",
       "      <td>14.0</td>\n",
       "      <td>41.0</td>\n",
       "      <td>2.658720</td>\n",
       "      <td>2.9</td>\n",
       "      <td>1</td>\n",
       "      <td>15.0</td>\n",
       "      <td>120.0</td>\n",
       "      <td>0.821280</td>\n",
       "      <td>0.0</td>\n",
       "    </tr>\n",
       "    <tr>\n",
       "      <th>4</th>\n",
       "      <td>0.0</td>\n",
       "      <td>24.0</td>\n",
       "      <td>1.787436</td>\n",
       "      <td>17.3</td>\n",
       "      <td>2</td>\n",
       "      <td>2.0</td>\n",
       "      <td>28.0</td>\n",
       "      <td>3.056564</td>\n",
       "      <td>1.0</td>\n",
       "    </tr>\n",
       "  </tbody>\n",
       "</table>\n",
       "</div>"
      ],
      "text/plain": [
       "   address   age  creddebt  debtinc  ed  employ  income   othdebt  default\n",
       "0     12.0  41.0  9.876748      9.3   3    17.0   176.0  5.008608      1.0\n",
       "1      6.0  27.0  1.362202     17.3   1    10.0    31.0  4.000798      0.0\n",
       "2     14.0  40.0  0.856075      5.5   1    15.0    55.0  2.168925      0.0\n",
       "3     14.0  41.0  2.658720      2.9   1    15.0   120.0  0.821280      0.0\n",
       "4      0.0  24.0  1.787436     17.3   2     2.0    28.0  3.056564      1.0"
      ]
     },
     "execution_count": 32,
     "metadata": {},
     "output_type": "execute_result"
    }
   ],
   "source": [
    "## Variance Inflation Factor assessment\n",
    "X = pd.concat([bankloans_existing[bankloans_existing.columns.difference(['default'])],bankloans_existing['default']], axis=1)\n",
    "features = \"+\".join(bankloans_existing.columns.difference(['default']))\n",
    "X.head()"
   ]
  },
  {
   "cell_type": "code",
   "execution_count": 33,
   "metadata": {},
   "outputs": [
    {
     "data": {
      "text/plain": [
       "'address+age+creddebt+debtinc+ed+employ+income+othdebt'"
      ]
     },
     "execution_count": 33,
     "metadata": {},
     "output_type": "execute_result"
    }
   ],
   "source": [
    "features"
   ]
  },
  {
   "cell_type": "code",
   "execution_count": 34,
   "metadata": {},
   "outputs": [
    {
     "name": "stdout",
     "output_type": "stream",
     "text": [
      "   VIF Factor   features\n",
      "0   32.191334  Intercept\n",
      "1    1.561184    address\n",
      "2    1.973456        age\n",
      "3    1.996463   creddebt\n",
      "4    1.598538    debtinc\n",
      "5    1.095621         ed\n",
      "6    1.802243     employ\n"
     ]
    }
   ],
   "source": [
    "a,b = dmatrices(formula_like='default ~ '+ 'address+age+creddebt+debtinc+ed+employ', data = X, return_type='dataframe')\n",
    "\n",
    "vif = pd.DataFrame()\n",
    "vif[\"VIF Factor\"] = [variance_inflation_factor(b.values, i) for i in range(b.shape[1])]\n",
    "vif[\"features\"] = b.columns\n",
    "\n",
    "print(vif)"
   ]
  },
  {
   "cell_type": "code",
   "execution_count": 35,
   "metadata": {},
   "outputs": [
    {
     "data": {
      "text/plain": [
       "Index(['age', 'ed', 'employ', 'address', 'income', 'debtinc', 'creddebt',\n",
       "       'othdebt', 'default'],\n",
       "      dtype='object')"
      ]
     },
     "execution_count": 35,
     "metadata": {},
     "output_type": "execute_result"
    }
   ],
   "source": [
    "#Train and Test split\n",
    "train, test = train_test_split(bankloans_existing, test_size=0.3, random_state=42)\n",
    "train.columns"
   ]
  },
  {
   "cell_type": "markdown",
   "metadata": {},
   "source": [
    "### Building logistic Regression"
   ]
  },
  {
   "cell_type": "code",
   "execution_count": 36,
   "metadata": {},
   "outputs": [
    {
     "name": "stdout",
     "output_type": "stream",
     "text": [
      "Optimization terminated successfully.\n",
      "         Current function value: 0.427080\n",
      "         Iterations 7\n"
     ]
    }
   ],
   "source": [
    "logreg = sm.logit(formula='default ~ address+age+creddebt+debtinc+employ', data=train)\n",
    "result = logreg.fit()"
   ]
  },
  {
   "cell_type": "code",
   "execution_count": 37,
   "metadata": {},
   "outputs": [
    {
     "name": "stdout",
     "output_type": "stream",
     "text": [
      "                         Results: Logit\n",
      "=================================================================\n",
      "Model:              Logit            Pseudo R-squared: 0.272     \n",
      "Dependent Variable: default          AIC:              430.5384  \n",
      "Date:               2020-02-19 23:38 BIC:              455.7048  \n",
      "No. Observations:   490              Log-Likelihood:   -209.27   \n",
      "Df Model:           5                LL-Null:          -287.47   \n",
      "Df Residuals:       484              LLR p-value:      5.7693e-32\n",
      "Converged:          1.0000           Scale:            1.0000    \n",
      "No. Iterations:     7.0000                                       \n",
      "------------------------------------------------------------------\n",
      "               Coef.   Std.Err.     z     P>|z|    [0.025   0.975]\n",
      "------------------------------------------------------------------\n",
      "Intercept     -1.7617    0.5836  -3.0187  0.0025  -2.9055  -0.6179\n",
      "address       -0.0839    0.0254  -3.3044  0.0010  -0.1336  -0.0341\n",
      "age            0.0392    0.0201   1.9526  0.0509  -0.0001   0.0785\n",
      "creddebt       0.5998    0.1036   5.7910  0.0000   0.3968   0.8028\n",
      "debtinc        0.0710    0.0214   3.3120  0.0009   0.0290   0.1130\n",
      "employ        -0.2541    0.0348  -7.3050  0.0000  -0.3223  -0.1859\n",
      "=================================================================\n",
      "\n"
     ]
    }
   ],
   "source": [
    " print(result.summary2())"
   ]
  },
  {
   "cell_type": "markdown",
   "metadata": {},
   "source": [
    "- LE = -1.7615 -0.0839*address+0.0392*age+0.5996*creddebt+0.0710*debtinc-0.2541*employ\n",
    "- p = exp(LE)/(1+exp(LE))"
   ]
  },
  {
   "cell_type": "code",
   "execution_count": 38,
   "metadata": {},
   "outputs": [
    {
     "name": "stdout",
     "output_type": "stream",
     "text": [
      "The Gini Index for the model built on the Train Data is :  0.6763374140533289\n",
      "The Gini Index for the model built on the Test Data is :  0.7771580681962227\n"
     ]
    }
   ],
   "source": [
    "train_gini = 2*metrics.roc_auc_score(train['default'], result.predict()) - 1\n",
    "print(\"The Gini Index for the model built on the Train Data is : \", train_gini)\n",
    "\n",
    "test_gini = 2*metrics.roc_auc_score(test['default'], result.predict(test)) - 1\n",
    "print(\"The Gini Index for the model built on the Test Data is : \", test_gini)"
   ]
  },
  {
   "cell_type": "code",
   "execution_count": 39,
   "metadata": {},
   "outputs": [
    {
     "name": "stdout",
     "output_type": "stream",
     "text": [
      "The AUC for the model built on the Train Data is :  0.8381687070266645\n",
      "The AUC for the model built on the Test Data is :  0.8885790340981113\n"
     ]
    }
   ],
   "source": [
    "train_auc = metrics.roc_auc_score(train['default'], result.predict())\n",
    "test_auc = metrics.roc_auc_score(test['default'], result.predict(test))\n",
    "\n",
    "print(\"The AUC for the model built on the Train Data is : \", train_auc)\n",
    "print(\"The AUC for the model built on the Test Data is : \", test_auc)\n",
    "                                 "
   ]
  },
  {
   "cell_type": "code",
   "execution_count": 40,
   "metadata": {},
   "outputs": [
    {
     "data": {
      "text/html": [
       "<div>\n",
       "<style scoped>\n",
       "    .dataframe tbody tr th:only-of-type {\n",
       "        vertical-align: middle;\n",
       "    }\n",
       "\n",
       "    .dataframe tbody tr th {\n",
       "        vertical-align: top;\n",
       "    }\n",
       "\n",
       "    .dataframe thead th {\n",
       "        text-align: right;\n",
       "    }\n",
       "</style>\n",
       "<table border=\"1\" class=\"dataframe\">\n",
       "  <thead>\n",
       "    <tr style=\"text-align: right;\">\n",
       "      <th></th>\n",
       "      <th>actual</th>\n",
       "      <th>prob</th>\n",
       "    </tr>\n",
       "  </thead>\n",
       "  <tbody>\n",
       "    <tr>\n",
       "      <th>357</th>\n",
       "      <td>1.0</td>\n",
       "      <td>0.585714</td>\n",
       "    </tr>\n",
       "    <tr>\n",
       "      <th>649</th>\n",
       "      <td>0.0</td>\n",
       "      <td>0.529760</td>\n",
       "    </tr>\n",
       "    <tr>\n",
       "      <th>291</th>\n",
       "      <td>0.0</td>\n",
       "      <td>0.060710</td>\n",
       "    </tr>\n",
       "    <tr>\n",
       "      <th>420</th>\n",
       "      <td>1.0</td>\n",
       "      <td>0.599708</td>\n",
       "    </tr>\n",
       "    <tr>\n",
       "      <th>177</th>\n",
       "      <td>0.0</td>\n",
       "      <td>0.130220</td>\n",
       "    </tr>\n",
       "  </tbody>\n",
       "</table>\n",
       "</div>"
      ],
      "text/plain": [
       "     actual      prob\n",
       "357     1.0  0.585714\n",
       "649     0.0  0.529760\n",
       "291     0.0  0.060710\n",
       "420     1.0  0.599708\n",
       "177     0.0  0.130220"
      ]
     },
     "execution_count": 40,
     "metadata": {},
     "output_type": "execute_result"
    }
   ],
   "source": [
    "## Intuition behind ROC curve - predicted probability as a tool for separating the '1's and '0's\n",
    "train_predicted_prob = pd.DataFrame(result.predict(train))\n",
    "train_predicted_prob.columns = ['prob']\n",
    "train_actual = train['default']\n",
    "# making a DataFrame with actual and prob columns\n",
    "train_predict = pd.concat([train_actual, train_predicted_prob], axis=1)\n",
    "train_predict.columns = ['actual','prob']\n",
    "train_predict.head()"
   ]
  },
  {
   "cell_type": "code",
   "execution_count": 41,
   "metadata": {},
   "outputs": [
    {
     "data": {
      "text/html": [
       "<div>\n",
       "<style scoped>\n",
       "    .dataframe tbody tr th:only-of-type {\n",
       "        vertical-align: middle;\n",
       "    }\n",
       "\n",
       "    .dataframe tbody tr th {\n",
       "        vertical-align: top;\n",
       "    }\n",
       "\n",
       "    .dataframe thead th {\n",
       "        text-align: right;\n",
       "    }\n",
       "</style>\n",
       "<table border=\"1\" class=\"dataframe\">\n",
       "  <thead>\n",
       "    <tr style=\"text-align: right;\">\n",
       "      <th></th>\n",
       "      <th>actual</th>\n",
       "      <th>prob</th>\n",
       "    </tr>\n",
       "  </thead>\n",
       "  <tbody>\n",
       "    <tr>\n",
       "      <th>158</th>\n",
       "      <td>1.0</td>\n",
       "      <td>0.213664</td>\n",
       "    </tr>\n",
       "    <tr>\n",
       "      <th>500</th>\n",
       "      <td>0.0</td>\n",
       "      <td>0.462456</td>\n",
       "    </tr>\n",
       "    <tr>\n",
       "      <th>396</th>\n",
       "      <td>0.0</td>\n",
       "      <td>0.059013</td>\n",
       "    </tr>\n",
       "    <tr>\n",
       "      <th>155</th>\n",
       "      <td>0.0</td>\n",
       "      <td>0.296537</td>\n",
       "    </tr>\n",
       "    <tr>\n",
       "      <th>321</th>\n",
       "      <td>1.0</td>\n",
       "      <td>0.300297</td>\n",
       "    </tr>\n",
       "  </tbody>\n",
       "</table>\n",
       "</div>"
      ],
      "text/plain": [
       "     actual      prob\n",
       "158     1.0  0.213664\n",
       "500     0.0  0.462456\n",
       "396     0.0  0.059013\n",
       "155     0.0  0.296537\n",
       "321     1.0  0.300297"
      ]
     },
     "execution_count": 41,
     "metadata": {},
     "output_type": "execute_result"
    }
   ],
   "source": [
    "## Intuition behind ROC curve - predicted probability as a tool for separating the '1's and '0's\n",
    "test_predicted_prob = pd.DataFrame(result.predict(test))\n",
    "test_predicted_prob.columns = ['prob']\n",
    "test_actual = test['default']\n",
    "# making a DataFrame with actual and prob columns\n",
    "test_predict = pd.concat([test_actual, test_predicted_prob], axis=1)\n",
    "test_predict.columns = ['actual','prob']\n",
    "test_predict.head()"
   ]
  },
  {
   "cell_type": "code",
   "execution_count": 42,
   "metadata": {},
   "outputs": [],
   "source": [
    "## Intuition behind ROC curve - confusion matrix for each different cut-off shows trade off in sensitivity and specificity\n",
    "roc_like_df = pd.DataFrame()\n",
    "train_temp = train_predict.copy()\n",
    "\n",
    "for cut_off in np.linspace(0,1,50):\n",
    "    train_temp['cut_off'] = cut_off\n",
    "    train_temp['predicted'] = train_temp['prob'].apply(lambda x: 0.0 if x < cut_off else 1.0)\n",
    "    train_temp['tp'] = train_temp.apply(lambda x: 1.0 if x['actual']==1.0 and x['predicted']==1 else 0.0, axis=1)\n",
    "    train_temp['fp'] = train_temp.apply(lambda x: 1.0 if x['actual']==0.0 and x['predicted']==1 else 0.0, axis=1)\n",
    "    train_temp['tn'] = train_temp.apply(lambda x: 1.0 if x['actual']==0.0 and x['predicted']==0 else 0.0, axis=1)\n",
    "    train_temp['fn'] = train_temp.apply(lambda x: 1.0 if x['actual']==1.0 and x['predicted']==0 else 0.0, axis=1)\n",
    "    sensitivity = train_temp['tp'].sum() / (train_temp['tp'].sum() + train_temp['fn'].sum())\n",
    "    specificity = train_temp['tn'].sum() / (train_temp['tn'].sum() + train_temp['fp'].sum())\n",
    "    roc_like_table = pd.DataFrame([cut_off, sensitivity, specificity]).T\n",
    "    roc_like_table.columns = ['cutoff', 'sensitivity', 'specificity']\n",
    "    roc_like_df = pd.concat([roc_like_df, roc_like_table], axis=0)\n"
   ]
  },
  {
   "cell_type": "code",
   "execution_count": 43,
   "metadata": {},
   "outputs": [
    {
     "data": {
      "text/html": [
       "<div>\n",
       "<style scoped>\n",
       "    .dataframe tbody tr th:only-of-type {\n",
       "        vertical-align: middle;\n",
       "    }\n",
       "\n",
       "    .dataframe tbody tr th {\n",
       "        vertical-align: top;\n",
       "    }\n",
       "\n",
       "    .dataframe thead th {\n",
       "        text-align: right;\n",
       "    }\n",
       "</style>\n",
       "<table border=\"1\" class=\"dataframe\">\n",
       "  <thead>\n",
       "    <tr style=\"text-align: right;\">\n",
       "      <th></th>\n",
       "      <th>cutoff</th>\n",
       "      <th>sensitivity</th>\n",
       "      <th>specificity</th>\n",
       "    </tr>\n",
       "  </thead>\n",
       "  <tbody>\n",
       "    <tr>\n",
       "      <th>0</th>\n",
       "      <td>0.000000</td>\n",
       "      <td>1.000000</td>\n",
       "      <td>0.000000</td>\n",
       "    </tr>\n",
       "    <tr>\n",
       "      <th>0</th>\n",
       "      <td>0.020408</td>\n",
       "      <td>1.000000</td>\n",
       "      <td>0.165730</td>\n",
       "    </tr>\n",
       "    <tr>\n",
       "      <th>0</th>\n",
       "      <td>0.040816</td>\n",
       "      <td>0.985075</td>\n",
       "      <td>0.272472</td>\n",
       "    </tr>\n",
       "    <tr>\n",
       "      <th>0</th>\n",
       "      <td>0.061224</td>\n",
       "      <td>0.970149</td>\n",
       "      <td>0.345506</td>\n",
       "    </tr>\n",
       "    <tr>\n",
       "      <th>0</th>\n",
       "      <td>0.081633</td>\n",
       "      <td>0.962687</td>\n",
       "      <td>0.387640</td>\n",
       "    </tr>\n",
       "    <tr>\n",
       "      <th>0</th>\n",
       "      <td>0.102041</td>\n",
       "      <td>0.955224</td>\n",
       "      <td>0.432584</td>\n",
       "    </tr>\n",
       "    <tr>\n",
       "      <th>0</th>\n",
       "      <td>0.122449</td>\n",
       "      <td>0.925373</td>\n",
       "      <td>0.477528</td>\n",
       "    </tr>\n",
       "    <tr>\n",
       "      <th>0</th>\n",
       "      <td>0.142857</td>\n",
       "      <td>0.925373</td>\n",
       "      <td>0.514045</td>\n",
       "    </tr>\n",
       "    <tr>\n",
       "      <th>0</th>\n",
       "      <td>0.163265</td>\n",
       "      <td>0.925373</td>\n",
       "      <td>0.561798</td>\n",
       "    </tr>\n",
       "    <tr>\n",
       "      <th>0</th>\n",
       "      <td>0.183673</td>\n",
       "      <td>0.917910</td>\n",
       "      <td>0.595506</td>\n",
       "    </tr>\n",
       "    <tr>\n",
       "      <th>0</th>\n",
       "      <td>0.204082</td>\n",
       "      <td>0.880597</td>\n",
       "      <td>0.632022</td>\n",
       "    </tr>\n",
       "    <tr>\n",
       "      <th>0</th>\n",
       "      <td>0.224490</td>\n",
       "      <td>0.858209</td>\n",
       "      <td>0.665730</td>\n",
       "    </tr>\n",
       "    <tr>\n",
       "      <th>0</th>\n",
       "      <td>0.244898</td>\n",
       "      <td>0.820896</td>\n",
       "      <td>0.682584</td>\n",
       "    </tr>\n",
       "    <tr>\n",
       "      <th>0</th>\n",
       "      <td>0.265306</td>\n",
       "      <td>0.791045</td>\n",
       "      <td>0.707865</td>\n",
       "    </tr>\n",
       "    <tr>\n",
       "      <th>0</th>\n",
       "      <td>0.285714</td>\n",
       "      <td>0.768657</td>\n",
       "      <td>0.735955</td>\n",
       "    </tr>\n",
       "    <tr>\n",
       "      <th>0</th>\n",
       "      <td>0.306122</td>\n",
       "      <td>0.746269</td>\n",
       "      <td>0.764045</td>\n",
       "    </tr>\n",
       "    <tr>\n",
       "      <th>0</th>\n",
       "      <td>0.326531</td>\n",
       "      <td>0.738806</td>\n",
       "      <td>0.772472</td>\n",
       "    </tr>\n",
       "    <tr>\n",
       "      <th>0</th>\n",
       "      <td>0.346939</td>\n",
       "      <td>0.731343</td>\n",
       "      <td>0.789326</td>\n",
       "    </tr>\n",
       "    <tr>\n",
       "      <th>0</th>\n",
       "      <td>0.367347</td>\n",
       "      <td>0.701493</td>\n",
       "      <td>0.797753</td>\n",
       "    </tr>\n",
       "    <tr>\n",
       "      <th>0</th>\n",
       "      <td>0.387755</td>\n",
       "      <td>0.641791</td>\n",
       "      <td>0.817416</td>\n",
       "    </tr>\n",
       "    <tr>\n",
       "      <th>0</th>\n",
       "      <td>0.408163</td>\n",
       "      <td>0.604478</td>\n",
       "      <td>0.837079</td>\n",
       "    </tr>\n",
       "    <tr>\n",
       "      <th>0</th>\n",
       "      <td>0.428571</td>\n",
       "      <td>0.567164</td>\n",
       "      <td>0.870787</td>\n",
       "    </tr>\n",
       "    <tr>\n",
       "      <th>0</th>\n",
       "      <td>0.448980</td>\n",
       "      <td>0.544776</td>\n",
       "      <td>0.890449</td>\n",
       "    </tr>\n",
       "    <tr>\n",
       "      <th>0</th>\n",
       "      <td>0.469388</td>\n",
       "      <td>0.522388</td>\n",
       "      <td>0.896067</td>\n",
       "    </tr>\n",
       "    <tr>\n",
       "      <th>0</th>\n",
       "      <td>0.489796</td>\n",
       "      <td>0.492537</td>\n",
       "      <td>0.904494</td>\n",
       "    </tr>\n",
       "    <tr>\n",
       "      <th>0</th>\n",
       "      <td>0.510204</td>\n",
       "      <td>0.447761</td>\n",
       "      <td>0.924157</td>\n",
       "    </tr>\n",
       "    <tr>\n",
       "      <th>0</th>\n",
       "      <td>0.530612</td>\n",
       "      <td>0.417910</td>\n",
       "      <td>0.946629</td>\n",
       "    </tr>\n",
       "    <tr>\n",
       "      <th>0</th>\n",
       "      <td>0.551020</td>\n",
       "      <td>0.388060</td>\n",
       "      <td>0.952247</td>\n",
       "    </tr>\n",
       "    <tr>\n",
       "      <th>0</th>\n",
       "      <td>0.571429</td>\n",
       "      <td>0.328358</td>\n",
       "      <td>0.952247</td>\n",
       "    </tr>\n",
       "    <tr>\n",
       "      <th>0</th>\n",
       "      <td>0.591837</td>\n",
       "      <td>0.305970</td>\n",
       "      <td>0.957865</td>\n",
       "    </tr>\n",
       "    <tr>\n",
       "      <th>0</th>\n",
       "      <td>0.612245</td>\n",
       "      <td>0.291045</td>\n",
       "      <td>0.963483</td>\n",
       "    </tr>\n",
       "    <tr>\n",
       "      <th>0</th>\n",
       "      <td>0.632653</td>\n",
       "      <td>0.268657</td>\n",
       "      <td>0.966292</td>\n",
       "    </tr>\n",
       "    <tr>\n",
       "      <th>0</th>\n",
       "      <td>0.653061</td>\n",
       "      <td>0.253731</td>\n",
       "      <td>0.969101</td>\n",
       "    </tr>\n",
       "    <tr>\n",
       "      <th>0</th>\n",
       "      <td>0.673469</td>\n",
       "      <td>0.238806</td>\n",
       "      <td>0.969101</td>\n",
       "    </tr>\n",
       "    <tr>\n",
       "      <th>0</th>\n",
       "      <td>0.693878</td>\n",
       "      <td>0.216418</td>\n",
       "      <td>0.980337</td>\n",
       "    </tr>\n",
       "    <tr>\n",
       "      <th>0</th>\n",
       "      <td>0.714286</td>\n",
       "      <td>0.208955</td>\n",
       "      <td>0.983146</td>\n",
       "    </tr>\n",
       "    <tr>\n",
       "      <th>0</th>\n",
       "      <td>0.734694</td>\n",
       "      <td>0.156716</td>\n",
       "      <td>0.985955</td>\n",
       "    </tr>\n",
       "    <tr>\n",
       "      <th>0</th>\n",
       "      <td>0.755102</td>\n",
       "      <td>0.134328</td>\n",
       "      <td>0.985955</td>\n",
       "    </tr>\n",
       "    <tr>\n",
       "      <th>0</th>\n",
       "      <td>0.775510</td>\n",
       "      <td>0.126866</td>\n",
       "      <td>0.988764</td>\n",
       "    </tr>\n",
       "    <tr>\n",
       "      <th>0</th>\n",
       "      <td>0.795918</td>\n",
       "      <td>0.119403</td>\n",
       "      <td>0.991573</td>\n",
       "    </tr>\n",
       "    <tr>\n",
       "      <th>0</th>\n",
       "      <td>0.816327</td>\n",
       "      <td>0.104478</td>\n",
       "      <td>0.991573</td>\n",
       "    </tr>\n",
       "    <tr>\n",
       "      <th>0</th>\n",
       "      <td>0.836735</td>\n",
       "      <td>0.097015</td>\n",
       "      <td>0.997191</td>\n",
       "    </tr>\n",
       "    <tr>\n",
       "      <th>0</th>\n",
       "      <td>0.857143</td>\n",
       "      <td>0.089552</td>\n",
       "      <td>0.997191</td>\n",
       "    </tr>\n",
       "    <tr>\n",
       "      <th>0</th>\n",
       "      <td>0.877551</td>\n",
       "      <td>0.067164</td>\n",
       "      <td>0.997191</td>\n",
       "    </tr>\n",
       "    <tr>\n",
       "      <th>0</th>\n",
       "      <td>0.897959</td>\n",
       "      <td>0.067164</td>\n",
       "      <td>0.997191</td>\n",
       "    </tr>\n",
       "    <tr>\n",
       "      <th>0</th>\n",
       "      <td>0.918367</td>\n",
       "      <td>0.044776</td>\n",
       "      <td>0.997191</td>\n",
       "    </tr>\n",
       "    <tr>\n",
       "      <th>0</th>\n",
       "      <td>0.938776</td>\n",
       "      <td>0.029851</td>\n",
       "      <td>1.000000</td>\n",
       "    </tr>\n",
       "    <tr>\n",
       "      <th>0</th>\n",
       "      <td>0.959184</td>\n",
       "      <td>0.022388</td>\n",
       "      <td>1.000000</td>\n",
       "    </tr>\n",
       "    <tr>\n",
       "      <th>0</th>\n",
       "      <td>0.979592</td>\n",
       "      <td>0.007463</td>\n",
       "      <td>1.000000</td>\n",
       "    </tr>\n",
       "    <tr>\n",
       "      <th>0</th>\n",
       "      <td>1.000000</td>\n",
       "      <td>0.000000</td>\n",
       "      <td>1.000000</td>\n",
       "    </tr>\n",
       "  </tbody>\n",
       "</table>\n",
       "</div>"
      ],
      "text/plain": [
       "     cutoff  sensitivity  specificity\n",
       "0  0.000000     1.000000     0.000000\n",
       "0  0.020408     1.000000     0.165730\n",
       "0  0.040816     0.985075     0.272472\n",
       "0  0.061224     0.970149     0.345506\n",
       "0  0.081633     0.962687     0.387640\n",
       "0  0.102041     0.955224     0.432584\n",
       "0  0.122449     0.925373     0.477528\n",
       "0  0.142857     0.925373     0.514045\n",
       "0  0.163265     0.925373     0.561798\n",
       "0  0.183673     0.917910     0.595506\n",
       "0  0.204082     0.880597     0.632022\n",
       "0  0.224490     0.858209     0.665730\n",
       "0  0.244898     0.820896     0.682584\n",
       "0  0.265306     0.791045     0.707865\n",
       "0  0.285714     0.768657     0.735955\n",
       "0  0.306122     0.746269     0.764045\n",
       "0  0.326531     0.738806     0.772472\n",
       "0  0.346939     0.731343     0.789326\n",
       "0  0.367347     0.701493     0.797753\n",
       "0  0.387755     0.641791     0.817416\n",
       "0  0.408163     0.604478     0.837079\n",
       "0  0.428571     0.567164     0.870787\n",
       "0  0.448980     0.544776     0.890449\n",
       "0  0.469388     0.522388     0.896067\n",
       "0  0.489796     0.492537     0.904494\n",
       "0  0.510204     0.447761     0.924157\n",
       "0  0.530612     0.417910     0.946629\n",
       "0  0.551020     0.388060     0.952247\n",
       "0  0.571429     0.328358     0.952247\n",
       "0  0.591837     0.305970     0.957865\n",
       "0  0.612245     0.291045     0.963483\n",
       "0  0.632653     0.268657     0.966292\n",
       "0  0.653061     0.253731     0.969101\n",
       "0  0.673469     0.238806     0.969101\n",
       "0  0.693878     0.216418     0.980337\n",
       "0  0.714286     0.208955     0.983146\n",
       "0  0.734694     0.156716     0.985955\n",
       "0  0.755102     0.134328     0.985955\n",
       "0  0.775510     0.126866     0.988764\n",
       "0  0.795918     0.119403     0.991573\n",
       "0  0.816327     0.104478     0.991573\n",
       "0  0.836735     0.097015     0.997191\n",
       "0  0.857143     0.089552     0.997191\n",
       "0  0.877551     0.067164     0.997191\n",
       "0  0.897959     0.067164     0.997191\n",
       "0  0.918367     0.044776     0.997191\n",
       "0  0.938776     0.029851     1.000000\n",
       "0  0.959184     0.022388     1.000000\n",
       "0  0.979592     0.007463     1.000000\n",
       "0  1.000000     0.000000     1.000000"
      ]
     },
     "execution_count": 43,
     "metadata": {},
     "output_type": "execute_result"
    }
   ],
   "source": [
    "roc_like_df"
   ]
  },
  {
   "cell_type": "code",
   "execution_count": 44,
   "metadata": {},
   "outputs": [],
   "source": [
    "## Finding ideal cut-off for checking if this remains same in OOS validation\n",
    "roc_like_df['total'] = roc_like_df['sensitivity'] + roc_like_df['specificity']"
   ]
  },
  {
   "cell_type": "code",
   "execution_count": 45,
   "metadata": {},
   "outputs": [
    {
     "data": {
      "text/html": [
       "<div>\n",
       "<style scoped>\n",
       "    .dataframe tbody tr th:only-of-type {\n",
       "        vertical-align: middle;\n",
       "    }\n",
       "\n",
       "    .dataframe tbody tr th {\n",
       "        vertical-align: top;\n",
       "    }\n",
       "\n",
       "    .dataframe thead th {\n",
       "        text-align: right;\n",
       "    }\n",
       "</style>\n",
       "<table border=\"1\" class=\"dataframe\">\n",
       "  <thead>\n",
       "    <tr style=\"text-align: right;\">\n",
       "      <th></th>\n",
       "      <th>cutoff</th>\n",
       "      <th>sensitivity</th>\n",
       "      <th>specificity</th>\n",
       "      <th>total</th>\n",
       "    </tr>\n",
       "  </thead>\n",
       "  <tbody>\n",
       "    <tr>\n",
       "      <th>0</th>\n",
       "      <td>0.000000</td>\n",
       "      <td>1.000000</td>\n",
       "      <td>0.000000</td>\n",
       "      <td>1.000000</td>\n",
       "    </tr>\n",
       "    <tr>\n",
       "      <th>0</th>\n",
       "      <td>0.020408</td>\n",
       "      <td>1.000000</td>\n",
       "      <td>0.165730</td>\n",
       "      <td>1.165730</td>\n",
       "    </tr>\n",
       "    <tr>\n",
       "      <th>0</th>\n",
       "      <td>0.040816</td>\n",
       "      <td>0.985075</td>\n",
       "      <td>0.272472</td>\n",
       "      <td>1.257547</td>\n",
       "    </tr>\n",
       "    <tr>\n",
       "      <th>0</th>\n",
       "      <td>0.061224</td>\n",
       "      <td>0.970149</td>\n",
       "      <td>0.345506</td>\n",
       "      <td>1.315655</td>\n",
       "    </tr>\n",
       "    <tr>\n",
       "      <th>0</th>\n",
       "      <td>0.081633</td>\n",
       "      <td>0.962687</td>\n",
       "      <td>0.387640</td>\n",
       "      <td>1.350327</td>\n",
       "    </tr>\n",
       "  </tbody>\n",
       "</table>\n",
       "</div>"
      ],
      "text/plain": [
       "     cutoff  sensitivity  specificity     total\n",
       "0  0.000000     1.000000     0.000000  1.000000\n",
       "0  0.020408     1.000000     0.165730  1.165730\n",
       "0  0.040816     0.985075     0.272472  1.257547\n",
       "0  0.061224     0.970149     0.345506  1.315655\n",
       "0  0.081633     0.962687     0.387640  1.350327"
      ]
     },
     "execution_count": 45,
     "metadata": {},
     "output_type": "execute_result"
    }
   ],
   "source": [
    "roc_like_df.head()"
   ]
  },
  {
   "cell_type": "code",
   "execution_count": 46,
   "metadata": {},
   "outputs": [
    {
     "data": {
      "text/html": [
       "<div>\n",
       "<style scoped>\n",
       "    .dataframe tbody tr th:only-of-type {\n",
       "        vertical-align: middle;\n",
       "    }\n",
       "\n",
       "    .dataframe tbody tr th {\n",
       "        vertical-align: top;\n",
       "    }\n",
       "\n",
       "    .dataframe thead th {\n",
       "        text-align: right;\n",
       "    }\n",
       "</style>\n",
       "<table border=\"1\" class=\"dataframe\">\n",
       "  <thead>\n",
       "    <tr style=\"text-align: right;\">\n",
       "      <th></th>\n",
       "      <th>cutoff</th>\n",
       "      <th>sensitivity</th>\n",
       "      <th>specificity</th>\n",
       "      <th>total</th>\n",
       "    </tr>\n",
       "  </thead>\n",
       "  <tbody>\n",
       "    <tr>\n",
       "      <th>0</th>\n",
       "      <td>0.22449</td>\n",
       "      <td>0.858209</td>\n",
       "      <td>0.66573</td>\n",
       "      <td>1.523939</td>\n",
       "    </tr>\n",
       "  </tbody>\n",
       "</table>\n",
       "</div>"
      ],
      "text/plain": [
       "    cutoff  sensitivity  specificity     total\n",
       "0  0.22449     0.858209      0.66573  1.523939"
      ]
     },
     "execution_count": 46,
     "metadata": {},
     "output_type": "execute_result"
    }
   ],
   "source": [
    "roc_like_df[roc_like_df['total']==roc_like_df['total'].max()]"
   ]
  },
  {
   "cell_type": "code",
   "execution_count": 47,
   "metadata": {},
   "outputs": [],
   "source": [
    "#Best Cut-off is 0.23"
   ]
  },
  {
   "cell_type": "code",
   "execution_count": 48,
   "metadata": {},
   "outputs": [],
   "source": [
    "test_predict['predicted'] = test_predict['prob'].apply(lambda x: 1 if x > 0.23 else 0)\n",
    "train_predict['predicted'] = train_predict['prob'].apply(lambda x: 1 if x > 0.23 else 0)"
   ]
  },
  {
   "cell_type": "code",
   "execution_count": 49,
   "metadata": {},
   "outputs": [
    {
     "data": {
      "image/png": "[encoded data removed]",
      "text/plain": [
       "<Figure size 720x540 with 2 Axes>"
      ]
     },
     "metadata": {
      "needs_background": "light"
     },
     "output_type": "display_data"
    },
    {
     "data": {
      "image/png": "[encoded data removed]",
      "text/plain": [
       "<Figure size 720x540 with 2 Axes>"
      ]
     },
     "metadata": {
      "needs_background": "light"
     },
     "output_type": "display_data"
    }
   ],
   "source": [
    "sns.heatmap(pd.crosstab(train_predict['actual'], train_predict['predicted']), annot=True, fmt='.0f')\n",
    "plt.title('Train Data Confusion Matrix')\n",
    "plt.show()\n",
    "sns.heatmap(pd.crosstab(test_predict['actual'], test_predict['predicted']), annot=True, fmt='.0f')\n",
    "plt.title('Test Data Confusion Matrix')\n",
    "plt.show()\n",
    "# (117+236)/(117+236+120+17)"
   ]
  },
  {
   "cell_type": "code",
   "execution_count": 50,
   "metadata": {},
   "outputs": [
    {
     "name": "stdout",
     "output_type": "stream",
     "text": [
      "The overall accuracy score for the Train Data is :  0.7183673469387755\n",
      "The overall accuracy score for the Test Data  is :  0.7619047619047619\n"
     ]
    }
   ],
   "source": [
    "print(\"The overall accuracy score for the Train Data is : \", metrics.accuracy_score(train_predict.actual, train_predict.predicted))\n",
    "print(\"The overall accuracy score for the Test Data  is : \", metrics.accuracy_score(test_predict.actual, test_predict.predicted))"
   ]
  },
  {
   "cell_type": "code",
   "execution_count": 51,
   "metadata": {},
   "outputs": [
    {
     "name": "stdout",
     "output_type": "stream",
     "text": [
      "              precision    recall  f1-score   support\n",
      "\n",
      "         0.0       0.92      0.67      0.78       356\n",
      "         1.0       0.49      0.85      0.62       134\n",
      "\n",
      "    accuracy                           0.72       490\n",
      "   macro avg       0.71      0.76      0.70       490\n",
      "weighted avg       0.80      0.72      0.73       490\n",
      "\n"
     ]
    }
   ],
   "source": [
    "print(metrics.classification_report(train_predict.actual, train_predict.predicted))"
   ]
  },
  {
   "cell_type": "code",
   "execution_count": 52,
   "metadata": {},
   "outputs": [
    {
     "name": "stdout",
     "output_type": "stream",
     "text": [
      "              precision    recall  f1-score   support\n",
      "\n",
      "         0.0       0.95      0.73      0.82       161\n",
      "         1.0       0.49      0.88      0.63        49\n",
      "\n",
      "    accuracy                           0.76       210\n",
      "   macro avg       0.72      0.80      0.73       210\n",
      "weighted avg       0.84      0.76      0.78       210\n",
      "\n"
     ]
    }
   ],
   "source": [
    "print(metrics.classification_report(test_predict.actual, test_predict.predicted))"
   ]
  },
  {
   "cell_type": "code",
   "execution_count": 53,
   "metadata": {},
   "outputs": [
    {
     "data": {
      "text/html": [
       "<div>\n",
       "<style scoped>\n",
       "    .dataframe tbody tr th:only-of-type {\n",
       "        vertical-align: middle;\n",
       "    }\n",
       "\n",
       "    .dataframe tbody tr th {\n",
       "        vertical-align: top;\n",
       "    }\n",
       "\n",
       "    .dataframe thead th {\n",
       "        text-align: right;\n",
       "    }\n",
       "</style>\n",
       "<table border=\"1\" class=\"dataframe\">\n",
       "  <thead>\n",
       "    <tr style=\"text-align: right;\">\n",
       "      <th></th>\n",
       "      <th>age</th>\n",
       "      <th>ed</th>\n",
       "      <th>employ</th>\n",
       "      <th>address</th>\n",
       "      <th>income</th>\n",
       "      <th>debtinc</th>\n",
       "      <th>creddebt</th>\n",
       "      <th>othdebt</th>\n",
       "      <th>default</th>\n",
       "    </tr>\n",
       "  </thead>\n",
       "  <tbody>\n",
       "    <tr>\n",
       "      <th>700</th>\n",
       "      <td>36</td>\n",
       "      <td>1</td>\n",
       "      <td>16</td>\n",
       "      <td>13</td>\n",
       "      <td>32</td>\n",
       "      <td>10.9</td>\n",
       "      <td>0.544128</td>\n",
       "      <td>2.943872</td>\n",
       "      <td>NaN</td>\n",
       "    </tr>\n",
       "    <tr>\n",
       "      <th>701</th>\n",
       "      <td>50</td>\n",
       "      <td>1</td>\n",
       "      <td>6</td>\n",
       "      <td>27</td>\n",
       "      <td>21</td>\n",
       "      <td>12.9</td>\n",
       "      <td>1.316574</td>\n",
       "      <td>1.392426</td>\n",
       "      <td>NaN</td>\n",
       "    </tr>\n",
       "    <tr>\n",
       "      <th>702</th>\n",
       "      <td>40</td>\n",
       "      <td>1</td>\n",
       "      <td>9</td>\n",
       "      <td>9</td>\n",
       "      <td>33</td>\n",
       "      <td>17.0</td>\n",
       "      <td>4.880700</td>\n",
       "      <td>0.729300</td>\n",
       "      <td>NaN</td>\n",
       "    </tr>\n",
       "    <tr>\n",
       "      <th>703</th>\n",
       "      <td>31</td>\n",
       "      <td>1</td>\n",
       "      <td>5</td>\n",
       "      <td>7</td>\n",
       "      <td>23</td>\n",
       "      <td>2.0</td>\n",
       "      <td>0.046000</td>\n",
       "      <td>0.414000</td>\n",
       "      <td>NaN</td>\n",
       "    </tr>\n",
       "    <tr>\n",
       "      <th>704</th>\n",
       "      <td>29</td>\n",
       "      <td>1</td>\n",
       "      <td>4</td>\n",
       "      <td>0</td>\n",
       "      <td>24</td>\n",
       "      <td>7.8</td>\n",
       "      <td>0.866736</td>\n",
       "      <td>1.005264</td>\n",
       "      <td>NaN</td>\n",
       "    </tr>\n",
       "  </tbody>\n",
       "</table>\n",
       "</div>"
      ],
      "text/plain": [
       "     age  ed  employ  address  income  debtinc  creddebt   othdebt  default\n",
       "700   36   1      16       13      32     10.9  0.544128  2.943872      NaN\n",
       "701   50   1       6       27      21     12.9  1.316574  1.392426      NaN\n",
       "702   40   1       9        9      33     17.0  4.880700  0.729300      NaN\n",
       "703   31   1       5        7      23      2.0  0.046000  0.414000      NaN\n",
       "704   29   1       4        0      24      7.8  0.866736  1.005264      NaN"
      ]
     },
     "execution_count": 53,
     "metadata": {},
     "output_type": "execute_result"
    }
   ],
   "source": [
    "bankloans_new.head()"
   ]
  },
  {
   "cell_type": "code",
   "execution_count": 54,
   "metadata": {},
   "outputs": [],
   "source": [
    "bankloans_new['prob1'] = result.predict(bankloans_new)"
   ]
  },
  {
   "cell_type": "code",
   "execution_count": 55,
   "metadata": {},
   "outputs": [
    {
     "data": {
      "text/html": [
       "<div>\n",
       "<style scoped>\n",
       "    .dataframe tbody tr th:only-of-type {\n",
       "        vertical-align: middle;\n",
       "    }\n",
       "\n",
       "    .dataframe tbody tr th {\n",
       "        vertical-align: top;\n",
       "    }\n",
       "\n",
       "    .dataframe thead th {\n",
       "        text-align: right;\n",
       "    }\n",
       "</style>\n",
       "<table border=\"1\" class=\"dataframe\">\n",
       "  <thead>\n",
       "    <tr style=\"text-align: right;\">\n",
       "      <th></th>\n",
       "      <th>age</th>\n",
       "      <th>ed</th>\n",
       "      <th>employ</th>\n",
       "      <th>address</th>\n",
       "      <th>income</th>\n",
       "      <th>debtinc</th>\n",
       "      <th>creddebt</th>\n",
       "      <th>othdebt</th>\n",
       "      <th>default</th>\n",
       "      <th>prob1</th>\n",
       "    </tr>\n",
       "  </thead>\n",
       "  <tbody>\n",
       "    <tr>\n",
       "      <th>700</th>\n",
       "      <td>36</td>\n",
       "      <td>1</td>\n",
       "      <td>16</td>\n",
       "      <td>13</td>\n",
       "      <td>32</td>\n",
       "      <td>10.9</td>\n",
       "      <td>0.544128</td>\n",
       "      <td>2.943872</td>\n",
       "      <td>NaN</td>\n",
       "      <td>0.012039</td>\n",
       "    </tr>\n",
       "    <tr>\n",
       "      <th>701</th>\n",
       "      <td>50</td>\n",
       "      <td>1</td>\n",
       "      <td>6</td>\n",
       "      <td>27</td>\n",
       "      <td>21</td>\n",
       "      <td>12.9</td>\n",
       "      <td>1.316574</td>\n",
       "      <td>1.392426</td>\n",
       "      <td>NaN</td>\n",
       "      <td>0.131573</td>\n",
       "    </tr>\n",
       "    <tr>\n",
       "      <th>702</th>\n",
       "      <td>40</td>\n",
       "      <td>1</td>\n",
       "      <td>9</td>\n",
       "      <td>9</td>\n",
       "      <td>33</td>\n",
       "      <td>17.0</td>\n",
       "      <td>4.880700</td>\n",
       "      <td>0.729300</td>\n",
       "      <td>NaN</td>\n",
       "      <td>0.710414</td>\n",
       "    </tr>\n",
       "    <tr>\n",
       "      <th>703</th>\n",
       "      <td>31</td>\n",
       "      <td>1</td>\n",
       "      <td>5</td>\n",
       "      <td>7</td>\n",
       "      <td>23</td>\n",
       "      <td>2.0</td>\n",
       "      <td>0.046000</td>\n",
       "      <td>0.414000</td>\n",
       "      <td>NaN</td>\n",
       "      <td>0.096594</td>\n",
       "    </tr>\n",
       "    <tr>\n",
       "      <th>704</th>\n",
       "      <td>29</td>\n",
       "      <td>1</td>\n",
       "      <td>4</td>\n",
       "      <td>0</td>\n",
       "      <td>24</td>\n",
       "      <td>7.8</td>\n",
       "      <td>0.866736</td>\n",
       "      <td>1.005264</td>\n",
       "      <td>NaN</td>\n",
       "      <td>0.361535</td>\n",
       "    </tr>\n",
       "  </tbody>\n",
       "</table>\n",
       "</div>"
      ],
      "text/plain": [
       "     age  ed  employ  address  income  debtinc  creddebt   othdebt  default  \\\n",
       "700   36   1      16       13      32     10.9  0.544128  2.943872      NaN   \n",
       "701   50   1       6       27      21     12.9  1.316574  1.392426      NaN   \n",
       "702   40   1       9        9      33     17.0  4.880700  0.729300      NaN   \n",
       "703   31   1       5        7      23      2.0  0.046000  0.414000      NaN   \n",
       "704   29   1       4        0      24      7.8  0.866736  1.005264      NaN   \n",
       "\n",
       "        prob1  \n",
       "700  0.012039  \n",
       "701  0.131573  \n",
       "702  0.710414  \n",
       "703  0.096594  \n",
       "704  0.361535  "
      ]
     },
     "execution_count": 55,
     "metadata": {},
     "output_type": "execute_result"
    }
   ],
   "source": [
    "bankloans_new.head()"
   ]
  },
  {
   "cell_type": "code",
   "execution_count": 56,
   "metadata": {},
   "outputs": [],
   "source": [
    "bankloans_new['Bad'] = bankloans_new['prob1'].apply(lambda x: 1 if x > 0.23 else 0)"
   ]
  },
  {
   "cell_type": "code",
   "execution_count": 57,
   "metadata": {},
   "outputs": [
    {
     "data": {
      "text/html": [
       "<div>\n",
       "<style scoped>\n",
       "    .dataframe tbody tr th:only-of-type {\n",
       "        vertical-align: middle;\n",
       "    }\n",
       "\n",
       "    .dataframe tbody tr th {\n",
       "        vertical-align: top;\n",
       "    }\n",
       "\n",
       "    .dataframe thead th {\n",
       "        text-align: right;\n",
       "    }\n",
       "</style>\n",
       "<table border=\"1\" class=\"dataframe\">\n",
       "  <thead>\n",
       "    <tr style=\"text-align: right;\">\n",
       "      <th></th>\n",
       "      <th>age</th>\n",
       "      <th>ed</th>\n",
       "      <th>employ</th>\n",
       "      <th>address</th>\n",
       "      <th>income</th>\n",
       "      <th>debtinc</th>\n",
       "      <th>creddebt</th>\n",
       "      <th>othdebt</th>\n",
       "      <th>default</th>\n",
       "      <th>prob1</th>\n",
       "      <th>Bad</th>\n",
       "    </tr>\n",
       "  </thead>\n",
       "  <tbody>\n",
       "    <tr>\n",
       "      <th>700</th>\n",
       "      <td>36</td>\n",
       "      <td>1</td>\n",
       "      <td>16</td>\n",
       "      <td>13</td>\n",
       "      <td>32</td>\n",
       "      <td>10.9</td>\n",
       "      <td>0.544128</td>\n",
       "      <td>2.943872</td>\n",
       "      <td>NaN</td>\n",
       "      <td>0.012039</td>\n",
       "      <td>0</td>\n",
       "    </tr>\n",
       "    <tr>\n",
       "      <th>701</th>\n",
       "      <td>50</td>\n",
       "      <td>1</td>\n",
       "      <td>6</td>\n",
       "      <td>27</td>\n",
       "      <td>21</td>\n",
       "      <td>12.9</td>\n",
       "      <td>1.316574</td>\n",
       "      <td>1.392426</td>\n",
       "      <td>NaN</td>\n",
       "      <td>0.131573</td>\n",
       "      <td>0</td>\n",
       "    </tr>\n",
       "    <tr>\n",
       "      <th>702</th>\n",
       "      <td>40</td>\n",
       "      <td>1</td>\n",
       "      <td>9</td>\n",
       "      <td>9</td>\n",
       "      <td>33</td>\n",
       "      <td>17.0</td>\n",
       "      <td>4.880700</td>\n",
       "      <td>0.729300</td>\n",
       "      <td>NaN</td>\n",
       "      <td>0.710414</td>\n",
       "      <td>1</td>\n",
       "    </tr>\n",
       "    <tr>\n",
       "      <th>703</th>\n",
       "      <td>31</td>\n",
       "      <td>1</td>\n",
       "      <td>5</td>\n",
       "      <td>7</td>\n",
       "      <td>23</td>\n",
       "      <td>2.0</td>\n",
       "      <td>0.046000</td>\n",
       "      <td>0.414000</td>\n",
       "      <td>NaN</td>\n",
       "      <td>0.096594</td>\n",
       "      <td>0</td>\n",
       "    </tr>\n",
       "    <tr>\n",
       "      <th>704</th>\n",
       "      <td>29</td>\n",
       "      <td>1</td>\n",
       "      <td>4</td>\n",
       "      <td>0</td>\n",
       "      <td>24</td>\n",
       "      <td>7.8</td>\n",
       "      <td>0.866736</td>\n",
       "      <td>1.005264</td>\n",
       "      <td>NaN</td>\n",
       "      <td>0.361535</td>\n",
       "      <td>1</td>\n",
       "    </tr>\n",
       "  </tbody>\n",
       "</table>\n",
       "</div>"
      ],
      "text/plain": [
       "     age  ed  employ  address  income  debtinc  creddebt   othdebt  default  \\\n",
       "700   36   1      16       13      32     10.9  0.544128  2.943872      NaN   \n",
       "701   50   1       6       27      21     12.9  1.316574  1.392426      NaN   \n",
       "702   40   1       9        9      33     17.0  4.880700  0.729300      NaN   \n",
       "703   31   1       5        7      23      2.0  0.046000  0.414000      NaN   \n",
       "704   29   1       4        0      24      7.8  0.866736  1.005264      NaN   \n",
       "\n",
       "        prob1  Bad  \n",
       "700  0.012039    0  \n",
       "701  0.131573    0  \n",
       "702  0.710414    1  \n",
       "703  0.096594    0  \n",
       "704  0.361535    1  "
      ]
     },
     "execution_count": 57,
     "metadata": {},
     "output_type": "execute_result"
    }
   ],
   "source": [
    "bankloans_new.head()"
   ]
  },
  {
   "cell_type": "code",
   "execution_count": 58,
   "metadata": {},
   "outputs": [
    {
     "data": {
      "text/plain": [
       "0    83\n",
       "1    67\n",
       "Name: Bad, dtype: int64"
      ]
     },
     "execution_count": 58,
     "metadata": {},
     "output_type": "execute_result"
    }
   ],
   "source": [
    "bankloans_new.Bad.value_counts()"
   ]
  },
  {
   "cell_type": "code",
   "execution_count": 59,
   "metadata": {},
   "outputs": [],
   "source": [
    "#We are rejecting applications for 67 customers based on cut-off = 0.23"
   ]
  }
 ],
 "metadata": {
  "kernelspec": {
   "display_name": "Python 3",
   "language": "python",
   "name": "python3"
  },
  "language_info": {
   "codemirror_mode": {
    "name": "ipython",
    "version": 3
   },
   "file_extension": ".py",
   "mimetype": "text/x-python",
   "name": "python",
   "nbconvert_exporter": "python",
   "pygments_lexer": "ipython3",
   "version": "3.7.6"
  }
 },
 "nbformat": 4,
 "nbformat_minor": 2
}
